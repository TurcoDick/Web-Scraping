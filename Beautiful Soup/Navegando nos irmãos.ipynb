{
 "cells": [
  {
   "cell_type": "code",
   "execution_count": 1,
   "metadata": {},
   "outputs": [],
   "source": [
    "from bs4 import BeautifulSoup"
   ]
  },
  {
   "cell_type": "code",
   "execution_count": 2,
   "metadata": {},
   "outputs": [],
   "source": [
    "with open('arquivo02.html','r') as f:\n",
    "    soup = BeautifulSoup(f,'lxml')"
   ]
  },
  {
   "cell_type": "code",
   "execution_count": 3,
   "metadata": {},
   "outputs": [
    {
     "name": "stdout",
     "output_type": "stream",
     "text": [
      "None\n"
     ]
    }
   ],
   "source": [
    "print(soup.next_sibling) # retorna None por que "
   ]
  },
  {
   "cell_type": "code",
   "execution_count": 4,
   "metadata": {},
   "outputs": [
    {
     "name": "stdout",
     "output_type": "stream",
     "text": [
      "<tr><td class=\"ce\">Tela</td> <td class=\"cd\">Resolução equivalente a tela de 25\"</td></tr>\n"
     ]
    }
   ],
   "source": [
    "print(soup.td.parent) # mostra os irmãos de td"
   ]
  },
  {
   "cell_type": "markdown",
   "metadata": {},
   "source": [
    "*** Não posso esquecer que de uma tag para outra existe um espaço vazio ( \\n ) e ele também conta como tag ***"
   ]
  },
  {
   "cell_type": "code",
   "execution_count": 5,
   "metadata": {},
   "outputs": [
    {
     "name": "stdout",
     "output_type": "stream",
     "text": [
      " \n"
     ]
    }
   ],
   "source": [
    "print(soup.td.next_sibling) # caiu no irmão que é um espaço em branco"
   ]
  },
  {
   "cell_type": "code",
   "execution_count": 6,
   "metadata": {},
   "outputs": [
    {
     "name": "stdout",
     "output_type": "stream",
     "text": [
      "<td class=\"cd\">Resolução equivalente a tela de 25\"</td>\n"
     ]
    }
   ],
   "source": [
    "print(soup.td.next_sibling.next_sibling)"
   ]
  },
  {
   "cell_type": "code",
   "execution_count": 7,
   "metadata": {},
   "outputs": [
    {
     "name": "stdout",
     "output_type": "stream",
     "text": [
      "'\\n'\n",
      "<h2>Data de lançamento</h2>\n",
      "'\\n'\n",
      "<p>Donec aliquam urna ut dui placerat porta. Nunc porta, libero nec interdum placerat, neque lacus feugiat tellus, ut iaculis purus nisi eget massa. Sed convallis nisl non nisl posuere fermentum. Cras ac ex convallis, pulvinar nibh at, pharetra sapien. Maecenas fringilla lorem at ante malesuada, et maximus dui pulvinar.</p>\n",
      "'\\n'\n",
      "<h2>Especificações Técnicas</h2>\n",
      "'\\n'\n",
      "<table id=\"tabelaspec\">\n",
      "<caption>Tabela Técnica do Google Glass <span>junho/2016</span></caption>\n",
      "<tr><td class=\"ce\">Tela</td> <td class=\"cd\">Resolução equivalente a tela de 25\"</td></tr>\n",
      "<tr><td class=\"ce\" rowspan=\"2\">Camera</td> <td class=\"cd\"> 5MP para fotos</td></tr>\n",
      "<tr><td class=\"cd\">720p para vídeos</td></tr>\n",
      "<tr><td class=\"ce\" rowspan=\"2\">Conectividade</td> <td class=\"cd\">Wi-Fi</td></tr>\n",
      "<tr><td class=\"cd\">Bluetooth</td></tr>\n",
      "<tr><td class=\"ce\">Memória Interna</td> <td class=\"cd\">12GB</td></tr>\n",
      "</table>\n",
      "'\\n'\n",
      "<h2>Como funciona</h2>\n",
      "'\\n'\n",
      "<p>Praesent dapibus mattis orci ornare tempus. Sed laoreet accumsan tincidunt. Quisque fermentum dolor nunc. Nullam luctus ultricies sapien, ac facilisis felis commodo a. Duis quis nibh sapien. Sed aliquam felis vel ornare tincidunt.</p>\n",
      "'\\n'\n",
      "<h2>O que você pode fazer com o Google Glasses</h2>\n",
      "'\\n'\n",
      "<p>Curabitur tortor mauris, interdum sed tristique at, tincidunt nec justo. Donec rhoncus felis vel tempus faucibus. Sed venenatis consequat ante, sed fermentum ipsum faucibus sit amet. Pellentesque habitant morbi tristique senectus et netus et malesuada fames ac turpis egestas.</p>\n",
      "'\\n'\n"
     ]
    }
   ],
   "source": [
    "for sibling in soup.p.next_siblings: # percorrer todos os irmãos proximos\n",
    "    print(repr(sibling))"
   ]
  },
  {
   "cell_type": "code",
   "execution_count": 8,
   "metadata": {},
   "outputs": [
    {
     "name": "stdout",
     "output_type": "stream",
     "text": [
      "'\\n'\n",
      "<h2>O que é ?</h2>\n",
      "'\\n'\n",
      "<header id=\"cabecalho-artigo\">\n",
      "<hgroup>\n",
      "<h3>Tecnologia &gt;         Inovações</h3>\n",
      "<h1>Saiba tudo sobre o Google Glass</h1>\n",
      "<h2>por Thomas William</h2>\n",
      "</hgroup>\n",
      "</header>\n",
      "'\\n'\n"
     ]
    }
   ],
   "source": [
    "for sibling in soup.p.previous_siblings:\n",
    "    print(repr(sibling))"
   ]
  },
  {
   "cell_type": "code",
   "execution_count": null,
   "metadata": {},
   "outputs": [],
   "source": []
  }
 ],
 "metadata": {
  "kernelspec": {
   "display_name": "Python 3",
   "language": "python",
   "name": "python3"
  },
  "language_info": {
   "codemirror_mode": {
    "name": "ipython",
    "version": 3
   },
   "file_extension": ".py",
   "mimetype": "text/x-python",
   "name": "python",
   "nbconvert_exporter": "python",
   "pygments_lexer": "ipython3",
   "version": "3.6.4"
  }
 },
 "nbformat": 4,
 "nbformat_minor": 2
}
