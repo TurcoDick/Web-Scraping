{
 "cells": [
  {
   "cell_type": "code",
   "execution_count": 1,
   "metadata": {},
   "outputs": [],
   "source": [
    "import requests"
   ]
  },
  {
   "cell_type": "code",
   "execution_count": 28,
   "metadata": {},
   "outputs": [],
   "source": [
    "url = 'http://www.google.com/'"
   ]
  },
  {
   "cell_type": "code",
   "execution_count": 29,
   "metadata": {},
   "outputs": [],
   "source": [
    "r = requests.get(url) # retorna o conteúdo da url acessada"
   ]
  },
  {
   "cell_type": "code",
   "execution_count": 30,
   "metadata": {},
   "outputs": [
    {
     "name": "stdout",
     "output_type": "stream",
     "text": [
      "200\n"
     ]
    }
   ],
   "source": [
    "print(r.status_code) # mostra o código de status da página"
   ]
  },
  {
   "cell_type": "code",
   "execution_count": 31,
   "metadata": {},
   "outputs": [
    {
     "name": "stdout",
     "output_type": "stream",
     "text": [
      "Status 200, página acessada\n"
     ]
    }
   ],
   "source": [
    "if r.status_code == requests.codes.ok:\n",
    "    print('Status 200, página acessada')\n",
    "else:\n",
    "    print('Página não acessada')"
   ]
  },
  {
   "cell_type": "code",
   "execution_count": 32,
   "metadata": {},
   "outputs": [
    {
     "name": "stdout",
     "output_type": "stream",
     "text": [
      "{'Date': 'Mon, 07 May 2018 14:54:49 GMT', 'Expires': '-1', 'Cache-Control': 'private, max-age=0', 'Content-Type': 'text/html; charset=ISO-8859-1', 'P3P': 'CP=\"This is not a P3P policy! See g.co/p3phelp for more info.\"', 'Content-Encoding': 'gzip', 'Server': 'gws', 'Content-Length': '4726', 'X-XSS-Protection': '1; mode=block', 'X-Frame-Options': 'SAMEORIGIN', 'Set-Cookie': '1P_JAR=2018-05-07-14; expires=Wed, 06-Jun-2018 14:54:49 GMT; path=/; domain=.google.com, NID=129=l4yaW3FmN2pqk0iyf-hpkEDnGR-E0AXH2f5qg--Yy7KoI7tQ21kIJHBRitr0HgetjcfDVJJMr_5Ioyqj4sgFSAea7PCIic6vZo1By7pkSh96QFPNrx2wx-kD6z9Jnofi; expires=Tue, 06-Nov-2018 14:54:49 GMT; path=/; domain=.google.com; HttpOnly'}\n"
     ]
    }
   ],
   "source": [
    "print(r.headers)"
   ]
  },
  {
   "cell_type": "code",
   "execution_count": 33,
   "metadata": {},
   "outputs": [
    {
     "name": "stdout",
     "output_type": "stream",
     "text": [
      "1P_JAR=2018-05-07-14; expires=Wed, 06-Jun-2018 14:54:49 GMT; path=/; domain=.google.com, NID=129=l4yaW3FmN2pqk0iyf-hpkEDnGR-E0AXH2f5qg--Yy7KoI7tQ21kIJHBRitr0HgetjcfDVJJMr_5Ioyqj4sgFSAea7PCIic6vZo1By7pkSh96QFPNrx2wx-kD6z9Jnofi; expires=Tue, 06-Nov-2018 14:54:49 GMT; path=/; domain=.google.com; HttpOnly\n"
     ]
    }
   ],
   "source": [
    "print(r.headers['Set-Cookie']) # o requests funciona na estrutura de dict então passando a key obtenho o valor"
   ]
  },
  {
   "cell_type": "code",
   "execution_count": null,
   "metadata": {},
   "outputs": [],
   "source": []
  }
 ],
 "metadata": {
  "kernelspec": {
   "display_name": "Python 3",
   "language": "python",
   "name": "python3"
  },
  "language_info": {
   "codemirror_mode": {
    "name": "ipython",
    "version": 3
   },
   "file_extension": ".py",
   "mimetype": "text/x-python",
   "name": "python",
   "nbconvert_exporter": "python",
   "pygments_lexer": "ipython3",
   "version": "3.6.4"
  }
 },
 "nbformat": 4,
 "nbformat_minor": 2
}
