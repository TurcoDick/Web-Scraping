{
 "cells": [
  {
   "cell_type": "code",
   "execution_count": 1,
   "metadata": {},
   "outputs": [],
   "source": [
    "import requests"
   ]
  },
  {
   "cell_type": "code",
   "execution_count": 4,
   "metadata": {},
   "outputs": [],
   "source": [
    "url = 'https://www.dicio.com.br/pesquisa.php?'"
   ]
  },
  {
   "cell_type": "code",
   "execution_count": 5,
   "metadata": {},
   "outputs": [],
   "source": [
    "payload = {'q':'Alison'}"
   ]
  },
  {
   "cell_type": "code",
   "execution_count": 6,
   "metadata": {},
   "outputs": [],
   "source": [
    "r = requests.get(url,params=payload)"
   ]
  },
  {
   "cell_type": "code",
   "execution_count": 7,
   "metadata": {},
   "outputs": [
    {
     "name": "stdout",
     "output_type": "stream",
     "text": [
      "<!DOCTYPE html><html lang=\"pt-br\" prefix=\"og: http://ogp.me/ns# fb: http://ogp.me/ns/fb#\"><head><meta charset=\"utf-8\"><title>Alison - Busca - Dicio, Dicionário Online de Português</title><meta name=\"viewport\" content=\"width=device-width, initial-scale=1, maximum-scale=1\"><meta name=\"description\" content=\"Alison. Resultados da busca por Alison no Dicio, o Dicionário Online de Português.\"><link rel=\"alternate\" type=\"application/rss+xml\" title=\"RSS do Dicio\" href=\"/rss/\"><meta property=\"og:title\" content=\"Alison - Busca - Dicio, Dicionário Online de Português\"><meta property=\"og:description\" content=\"Alison. Resultados da busca por Alison no Dicio, o Dicionário Online de Português.\"><meta property=\"og:type\" content=\"article\"><meta property=\"og:site_name\" content=\"Dicio\"><meta property=\"fb:admins\" content=\"806619650\"><meta property=\"fb:app_id\" content=\"224486944257805\"><meta name=\"twitter:site\" content=\"@diciocombr\"><link rel=\"icon\" type=\"image/png\" href=\"/favicon-32x32.png\" sizes=\"32x32\"><link rel=\"icon\" type=\"image/png\" href=\"/favicon-96x96.png\" sizes=\"96x96\"><link rel=\"icon\" type=\"image/png\" href=\"/favicon-16x16.png\" sizes=\"16x16\"><link rel=\"icon\" type=\"image/png\" href=\"/android-chrome-192x192.png\" sizes=\"192x192\"><link rel=\"manifest\" href=\"/manifest.json\"><meta name=\"msapplication-TileColor\" content=\"#2d89ef\"><meta name=\"msapplication-TileImage\" content=\"/mstile-144x144.png\"><meta name=\"theme-color\" content=\"#FFFFFF\"><meta name=\"google-site-verification\" content=\"uwJR0I7RsG7lzGWpGPCqKZ_fxq5-JhY-Y_nE_35WyKo\"><meta name=\"msvalidate.01\" content=\"3E8C69C37B0951A16A22DAFEEEF764C5\"><meta name=\"y_key\" content=\"29ea8ab4e687c92e\"><link rel=\"image_src\" href=\"https://www.dicio.com.br/ogimage.png\"><link rel=\"search\" type=\"application/opensearchdescription+xml\" href=\"/opensearch.php\" title=\"Busca no Dicionário de Português - Dicio\"><link href=\"https://static.dicio.com.br/assets/dicio.076.css\" rel=\"stylesheet\" type=\"text/css\"><!--[if lt IE 9]> <script src=\"https://oss.maxcdn.com/html5shiv/3.7.2/html5shiv.min.js\"></script> <script src=\"https://oss.maxcdn.com/respond/1.4.2/respond.min.js\"></script> <![endif]--> <script type=\"text/javascript\">(function(i,s,o,g,r,a,m){i['GoogleAnalyticsObject']=r;i[r]=i[r]||function(){(i[r].q=i[r].q||[]).push(arguments)},i[r].l=1*new Date();a=s.createElement(o),m=s.getElementsByTagName(o)[0];a.async=1;a.src=g;m.parentNode.insertBefore(a,m)})(window,document,'script','//www.google-analytics.com/analytics.js','ga');ga('create','UA-10605777-8','auto');ga('send','pageview');</script> <script type=\"text/javascript\">var googletag=googletag||{};googletag.cmd=googletag.cmd||[];(function(){var gads=document.createElement('script');gads.async=true;gads.type='text/javascript';var useSSL='https:'==document.location.protocol;gads.src=(useSSL?'https:':'http:')+'//www.googletagservices.com/tag/js/gpt.js';var node=document.getElementsByTagName('script')[0];node.parentNode.insertBefore(gads,node);})();</script> <script type=\"text/javascript\">googletag.cmd.push(function(){var mrec_halfpage=googletag.sizeMapping().addSize([0,0],[]).addSize([769,0],[300,600]).build();googletag.defineSlot('/1062898/Dicio.com.br_MREC_336x280_Pesquisa',[300,250],'div-gpt-ad-1415207157080-1').addService(googletag.pubads());googletag.defineSlot('/1062898/dicio.com.br_half_pesquisa',[300,600],'div-gpt-ad-1442505089653-0').defineSizeMapping(mrec_halfpage).addService(googletag.pubads());googletag.pubads().enableSingleRequest();googletag.enableServices();});</script> <script async src=\"//pagead2.googlesyndication.com/pagead/js/adsbygoogle.js\"></script> <script>(adsbygoogle=window.adsbygoogle||[]).push({google_ad_client:'pub-7683395268562108',enable_page_level_ads:true,vignettes:{google_ad_channel:'6791454473'},overlays:{google_ad_channel:'8268187678'}});</script> </head><body itemscope itemtype=\"http://schema.org/WebPage\"> <script>var _comscore=_comscore||[];_comscore.push({c1:'2',c2:'21145335'});var _comscore=_comscore||[];_comscore.push({c1:'8',c2:'21145335',c3:'1111'});(function(){var s=document.createElement(\"script\"),el=document.getElementsByTagName(\"script\")[0];s.async=true;s.src=(document.location.protocol==\"https:\"?\"https://sb\":\"http://b\")+\".scorecardresearch.com/beacon.js\";el.parentNode.insertBefore(s,el);})();</script> <noscript> <img src=\"https://sb.scorecardresearch.com/p?c1=2&c2=21145335&cv=2.0&cj=1\" alt=\"comscore\" /> <img src=\"https://sb.scorecardresearch.com/p?c1=8&c2=21145335&c3=1111&c15=&cv=2.0&cj=1\" alt=\"comscore\" /> </noscript><div id=\"wrapper\"><div id=\"header\" ><div class=\"container\"><div id=\"logo\"> <a href=\"/\" title=\"Dicio, Dicionário Online de Português\"><img src=\"https://static.dicio.com.br/img/logo.svg\" data-fallback=\"https://static.dicio.com.br/img/logo.png\" alt=\"Dicio, Dicionário Online de Português\" width=\"127\" height=\"40\" /></a> <span>Dicionário Online de Português</span></div><div id=\"search\"><form action=\"/pesquisa.php\" id=\"searchForm\" method=\"get\"> <input class=\"barra_pesq txt\" placeholder=\"Buscar no Dicionário\" id=\"q\" name=\"q\" type=\"text\" value=\"alison\" autocomplete=\"off\" itemprop=\"query-input\" /> <button aria-label=\"Busca\" type=\"submit\"><span class=\"icon-search\"></span></button> <span id=\"clear\" class=\"hide\"></span></form></div></div></div><div class=\"container\"><div id=\"content\" class=\"row pesq\"><div class=\"col-xs-12 col-sm-7 col-md-8 card\"><div class=\"enchant\" id=\"enchant\"> <span style=\"color:#CC0000;\">Será que quis dizer </span> <a href=\"/anisol/\" data-s=\"en\" class=\"_sugg\">anisol</a>, <a href=\"/alisonita/\" data-s=\"en\" class=\"_sugg\">alisonita</a>, <a href=\"/alisso/\" data-s=\"en\" class=\"_sugg\">alisso</a>, <a href=\"/lisonja/\" data-s=\"en\" class=\"_sugg\">lisonja</a>, <a href=\"/isogonal/\" data-s=\"en\" class=\"_sugg\">isogonal</a>?</div><h1 class=\"norp\">Busca por alison</h1><div class=\"found\">Foram encontradas <strong>8</strong> palavras na busca por <strong>alison</strong>.</div><ul class=\"resultados\"><li> <a href=\"/alisou/\" data-s=\"es\" class=\"_sugg\">alisou</a> Alisou vem do verbo alisar. O mesmo que: achanou, aplanou, complanou, desempolou, igualou, nivelou, puiu, rasou, rasourou, raspou,...</li><li> <a href=\"/alisar/\" data-s=\"es\" class=\"_sugg\">alisar</a> v.t. Tornar liso; aplainar, nivelar. Fig. Abrandar, amaciar, suavizar. Bras. Poupar castigos a; tratar com carinhos, paparicar.</li><li> <a href=\"/aliso/\" data-s=\"es\" class=\"_sugg\">aliso</a> Aliso vem do verbo alisar. O mesmo que: achano, aplano, complano, desempolo, igualo, nivelo, raso, rasouro, raspo, respaldo.</li><li> <a href=\"/alisio/\" data-s=\"es\" class=\"_sugg\">alísio</a> adj. e s.m. Diz-se dos ventos regulares que sopram constantemente sobre quase uma terça parte da superfície do globo, das altas...</li><li> <a href=\"/aviso/\" data-s=\"es\" class=\"_sugg\">aviso</a> s.m. Ação ou efeito de avisar; notícia, novidade; recado. Conselho, exortação: foi um aviso salutar. Informação em letreiro para...</li><li> <a href=\"/alismo/\" data-s=\"es\" class=\"_sugg\">alismo</a> sm (gr alysmós) Agitação, ansiedade, inquietação.</li><li> <a href=\"/anisol/\" data-s=\"es\" class=\"_sugg\">anisol</a> sm (anis+ol) Quím Éter metílico do fenol, menos tóxico e ativo que ele, com odor de essência de anis e usado em produtos...</li><li> <a href=\"/alcion/\" data-s=\"es\" class=\"_sugg\">álcion</a> sm (lat gr alkyón) Zool 1 V alcíone. 2 Coral do gênero Alcíone ou de outro gênero com esse relacionado.</li></ul><div id=\"gooad_searchbot\"><div id=\"div-gpt-ad-1415207157080-1\" class=\"dfp-mrec\"> <script type=\"text/javascript\">googletag.cmd.push(function(){googletag.display('div-gpt-ad-1415207157080-1');});</script> </div></div></div><div id=\"sidebar\" class=\"col-xs-12 col-sm-5 col-md-4\"><div id=\"div-gpt-ad-1442505089653-0\" class=\"ad dfp-halfpage\"> <script type=\"text/javascript\">googletag.cmd.push(function(){googletag.display('div-gpt-ad-1442505089653-0');});</script> </div><div id=\"connections\"></div></div> <script>(function(){var f=function(){dicio.pesquisa.init({page:\"pesquisa\",pesquisa:\"alison\"});};window[window.attachEvent?'attachEvent':'addEventListener'](window.attachEvent?'onload':'load',f,false);})();</script> </div></div><div id=\"footer\"><div class=\"container\"><div class=\"row\"><div id=\"hamb-menu\"> <label for=\"menu-input\"></label></div><div id=\"legal-m\"> &copy; 2009 - 2018 <a href=\"https://www.7graus.com/\" rel=\"nofollow co-worker\">7Graus</a><br/>Dicio, Dicionário Online de Português</div><div id=\"legal\"> <span class=\"info\"> <strong>Dicio</strong>, Dicionário Online de Português, definições e significados de mais de 400 mil palavras. Todas as palavras de A a Z. </span></div><div id=\"footer-menu\"> <input type=\"checkbox\" id=\"menu-input\" value=\"button\" /><ul class=\"links\"><li><a href=\"/abreviaturas-usadas-no-dicionario.html\">Abreviaturas</a></li><li><a href=\"/palavra-do-dia/\">Palavra do dia</a></li><li><a href=\"/exemplos-de-palavras/\">Exemplos de palavras</a></li><li><a href=\"/politica-de-privacidade.html\" data-google-vignette=\"false\">Privacidade</a></li><li><a href=\"/termos-de-uso.html\" data-google-vignette=\"false\">Termos de uso</a></li><li><a href=\"/palavras-mais-buscadas/\">Palavras mais buscadas</a></li><li><a href=\"/sobre.html\" data-google-vignette=\"false\">Sobre nós</a></li><li><a href=\"/contato.php?a=e\" data-google-vignette=\"false\">Reportar erro</a></li><li><a href=\"/contato.php\" data-google-vignette=\"false\">Contato</a></li></ul></div><div class=\"col-xs-12 bottom-info\"><div class=\"copy\"> 2009 - 2018 &copy; <a href=\"https://www.7graus.com/\" rel=\"nofollow co-worker\"> <img class=\"sg-lazyload\" data-src=\"https://static.dicio.com.br/img/logo7g.svg\" data-fallback=\"https://static.dicio.com.br/img/logo7g.png\" width=\"42\" height=\"11\" alt=\"7Graus\" /> </a></div><div class=\"social\"> <a href=\"/widgets/\" id=\"blog\"><span></span>Coloque o Dicio no seu site</a> <a href=\"https://www.facebook.com/dicio\" class=\"icon fb\" title=\"Dicio no Facebook\" rel=\"nofollow\"></a> <a href=\"/rss/\" class=\"icon rss\" title=\"RSS do Dicio\" type=\"application/rss+xml\"></a></div></div><div class=\"col-xs-12 col-sm-3 google-play\"> <a class=\"google-play-badge\" data-event=\"footer badge\" href='https://play.google.com/store/apps/details?id=com.setegraus.dicio&referrer=utm_source%3Ddicio_website' target=\"_blank\" rel=\"noopener\"> <img class=\"sg-lazyload\" alt='Disponível no Google Play' data-src='/img/google-play-badge.png' data-srcset='/img/google-play-badge.png 1x, /img/google-play-badge@2x.png 2x' width=\"135\" height=\"40\"/> </a></div></div></div></div></div> <script type=\"text/javascript\" src=\"https://static.dicio.com.br/assets/dicio.076.js\"></script> </body></html>\n"
     ]
    }
   ],
   "source": [
    "print(r.text)"
   ]
  },
  {
   "cell_type": "code",
   "execution_count": 8,
   "metadata": {},
   "outputs": [],
   "source": [
    "with open('dicionario.html','w', encoding='utf-8') as f:\n",
    "    f.write(r.text)"
   ]
  },
  {
   "cell_type": "code",
   "execution_count": 11,
   "metadata": {},
   "outputs": [
    {
     "name": "stdout",
     "output_type": "stream",
     "text": [
      "{'User-Agent': 'python-requests/2.18.4', 'Accept-Encoding': 'gzip, deflate', 'Accept': '*/*', 'Connection': 'keep-alive'}\n"
     ]
    }
   ],
   "source": [
    "print(r.request.headers)"
   ]
  },
  {
   "cell_type": "code",
   "execution_count": 12,
   "metadata": {},
   "outputs": [],
   "source": [
    "header = {'Accept':'text/html,application/xhtml+xm…plication/xml;q=0.9,*/*;q=0.8',\n",
    "          'Accept-Encoding':'gzip, deflate, br',\n",
    "          'Accept-Language':'en-US,en;q=0.5',\n",
    "          'Connection':'keep-alive',\n",
    "          'Cookie':'sg_cookies=%7B%22eu%22%3Afalse…EiyoHFPPtMUroI43FMEsA; _gat=1',\n",
    "          'Host':'www.dicio.com.br',\n",
    "          'Referer':'https://www.dicio.com.br/',\n",
    "          'Upgrade-Insecure-Requests':'1',\n",
    "          'User-Agent':'Mozilla/5.0 (X11; Ubuntu; Linu…) Gecko/20100101 Firefox/59.0'}"
   ]
  },
  {
   "cell_type": "code",
   "execution_count": 14,
   "metadata": {},
   "outputs": [
    {
     "ename": "UnicodeEncodeError",
     "evalue": "'latin-1' codec can't encode character '\\u2026' in position 30: ordinal not in range(256)",
     "output_type": "error",
     "traceback": [
      "\u001b[0;31m---------------------------------------------------------------------------\u001b[0m",
      "\u001b[0;31mUnicodeEncodeError\u001b[0m                        Traceback (most recent call last)",
      "\u001b[0;32m<ipython-input-14-a108b2a94e7b>\u001b[0m in \u001b[0;36m<module>\u001b[0;34m()\u001b[0m\n\u001b[0;32m----> 1\u001b[0;31m \u001b[0mr\u001b[0m \u001b[0;34m=\u001b[0m \u001b[0mrequests\u001b[0m\u001b[0;34m.\u001b[0m\u001b[0mget\u001b[0m\u001b[0;34m(\u001b[0m\u001b[0murl\u001b[0m\u001b[0;34m,\u001b[0m \u001b[0mparams\u001b[0m\u001b[0;34m=\u001b[0m\u001b[0mpayload\u001b[0m\u001b[0;34m,\u001b[0m\u001b[0mheaders\u001b[0m\u001b[0;34m=\u001b[0m\u001b[0mheader\u001b[0m\u001b[0;34m)\u001b[0m\u001b[0;34m\u001b[0m\u001b[0m\n\u001b[0m",
      "\u001b[0;32m~/.pyenv/versions/anaconda3-5.0.1/lib/python3.6/site-packages/requests/api.py\u001b[0m in \u001b[0;36mget\u001b[0;34m(url, params, **kwargs)\u001b[0m\n\u001b[1;32m     70\u001b[0m \u001b[0;34m\u001b[0m\u001b[0m\n\u001b[1;32m     71\u001b[0m     \u001b[0mkwargs\u001b[0m\u001b[0;34m.\u001b[0m\u001b[0msetdefault\u001b[0m\u001b[0;34m(\u001b[0m\u001b[0;34m'allow_redirects'\u001b[0m\u001b[0;34m,\u001b[0m \u001b[0;32mTrue\u001b[0m\u001b[0;34m)\u001b[0m\u001b[0;34m\u001b[0m\u001b[0m\n\u001b[0;32m---> 72\u001b[0;31m     \u001b[0;32mreturn\u001b[0m \u001b[0mrequest\u001b[0m\u001b[0;34m(\u001b[0m\u001b[0;34m'get'\u001b[0m\u001b[0;34m,\u001b[0m \u001b[0murl\u001b[0m\u001b[0;34m,\u001b[0m \u001b[0mparams\u001b[0m\u001b[0;34m=\u001b[0m\u001b[0mparams\u001b[0m\u001b[0;34m,\u001b[0m \u001b[0;34m**\u001b[0m\u001b[0mkwargs\u001b[0m\u001b[0;34m)\u001b[0m\u001b[0;34m\u001b[0m\u001b[0m\n\u001b[0m\u001b[1;32m     73\u001b[0m \u001b[0;34m\u001b[0m\u001b[0m\n\u001b[1;32m     74\u001b[0m \u001b[0;34m\u001b[0m\u001b[0m\n",
      "\u001b[0;32m~/.pyenv/versions/anaconda3-5.0.1/lib/python3.6/site-packages/requests/api.py\u001b[0m in \u001b[0;36mrequest\u001b[0;34m(method, url, **kwargs)\u001b[0m\n\u001b[1;32m     56\u001b[0m     \u001b[0;31m# cases, and look like a memory leak in others.\u001b[0m\u001b[0;34m\u001b[0m\u001b[0;34m\u001b[0m\u001b[0m\n\u001b[1;32m     57\u001b[0m     \u001b[0;32mwith\u001b[0m \u001b[0msessions\u001b[0m\u001b[0;34m.\u001b[0m\u001b[0mSession\u001b[0m\u001b[0;34m(\u001b[0m\u001b[0;34m)\u001b[0m \u001b[0;32mas\u001b[0m \u001b[0msession\u001b[0m\u001b[0;34m:\u001b[0m\u001b[0;34m\u001b[0m\u001b[0m\n\u001b[0;32m---> 58\u001b[0;31m         \u001b[0;32mreturn\u001b[0m \u001b[0msession\u001b[0m\u001b[0;34m.\u001b[0m\u001b[0mrequest\u001b[0m\u001b[0;34m(\u001b[0m\u001b[0mmethod\u001b[0m\u001b[0;34m=\u001b[0m\u001b[0mmethod\u001b[0m\u001b[0;34m,\u001b[0m \u001b[0murl\u001b[0m\u001b[0;34m=\u001b[0m\u001b[0murl\u001b[0m\u001b[0;34m,\u001b[0m \u001b[0;34m**\u001b[0m\u001b[0mkwargs\u001b[0m\u001b[0;34m)\u001b[0m\u001b[0;34m\u001b[0m\u001b[0m\n\u001b[0m\u001b[1;32m     59\u001b[0m \u001b[0;34m\u001b[0m\u001b[0m\n\u001b[1;32m     60\u001b[0m \u001b[0;34m\u001b[0m\u001b[0m\n",
      "\u001b[0;32m~/.pyenv/versions/anaconda3-5.0.1/lib/python3.6/site-packages/requests/sessions.py\u001b[0m in \u001b[0;36mrequest\u001b[0;34m(self, method, url, params, data, headers, cookies, files, auth, timeout, allow_redirects, proxies, hooks, stream, verify, cert, json)\u001b[0m\n\u001b[1;32m    506\u001b[0m         }\n\u001b[1;32m    507\u001b[0m         \u001b[0msend_kwargs\u001b[0m\u001b[0;34m.\u001b[0m\u001b[0mupdate\u001b[0m\u001b[0;34m(\u001b[0m\u001b[0msettings\u001b[0m\u001b[0;34m)\u001b[0m\u001b[0;34m\u001b[0m\u001b[0m\n\u001b[0;32m--> 508\u001b[0;31m         \u001b[0mresp\u001b[0m \u001b[0;34m=\u001b[0m \u001b[0mself\u001b[0m\u001b[0;34m.\u001b[0m\u001b[0msend\u001b[0m\u001b[0;34m(\u001b[0m\u001b[0mprep\u001b[0m\u001b[0;34m,\u001b[0m \u001b[0;34m**\u001b[0m\u001b[0msend_kwargs\u001b[0m\u001b[0;34m)\u001b[0m\u001b[0;34m\u001b[0m\u001b[0m\n\u001b[0m\u001b[1;32m    509\u001b[0m \u001b[0;34m\u001b[0m\u001b[0m\n\u001b[1;32m    510\u001b[0m         \u001b[0;32mreturn\u001b[0m \u001b[0mresp\u001b[0m\u001b[0;34m\u001b[0m\u001b[0m\n",
      "\u001b[0;32m~/.pyenv/versions/anaconda3-5.0.1/lib/python3.6/site-packages/requests/sessions.py\u001b[0m in \u001b[0;36msend\u001b[0;34m(self, request, **kwargs)\u001b[0m\n\u001b[1;32m    616\u001b[0m \u001b[0;34m\u001b[0m\u001b[0m\n\u001b[1;32m    617\u001b[0m         \u001b[0;31m# Send the request\u001b[0m\u001b[0;34m\u001b[0m\u001b[0;34m\u001b[0m\u001b[0m\n\u001b[0;32m--> 618\u001b[0;31m         \u001b[0mr\u001b[0m \u001b[0;34m=\u001b[0m \u001b[0madapter\u001b[0m\u001b[0;34m.\u001b[0m\u001b[0msend\u001b[0m\u001b[0;34m(\u001b[0m\u001b[0mrequest\u001b[0m\u001b[0;34m,\u001b[0m \u001b[0;34m**\u001b[0m\u001b[0mkwargs\u001b[0m\u001b[0;34m)\u001b[0m\u001b[0;34m\u001b[0m\u001b[0m\n\u001b[0m\u001b[1;32m    619\u001b[0m \u001b[0;34m\u001b[0m\u001b[0m\n\u001b[1;32m    620\u001b[0m         \u001b[0;31m# Total elapsed time of the request (approximately)\u001b[0m\u001b[0;34m\u001b[0m\u001b[0;34m\u001b[0m\u001b[0m\n",
      "\u001b[0;32m~/.pyenv/versions/anaconda3-5.0.1/lib/python3.6/site-packages/requests/adapters.py\u001b[0m in \u001b[0;36msend\u001b[0;34m(self, request, stream, timeout, verify, cert, proxies)\u001b[0m\n\u001b[1;32m    438\u001b[0m                     \u001b[0mdecode_content\u001b[0m\u001b[0;34m=\u001b[0m\u001b[0;32mFalse\u001b[0m\u001b[0;34m,\u001b[0m\u001b[0;34m\u001b[0m\u001b[0m\n\u001b[1;32m    439\u001b[0m                     \u001b[0mretries\u001b[0m\u001b[0;34m=\u001b[0m\u001b[0mself\u001b[0m\u001b[0;34m.\u001b[0m\u001b[0mmax_retries\u001b[0m\u001b[0;34m,\u001b[0m\u001b[0;34m\u001b[0m\u001b[0m\n\u001b[0;32m--> 440\u001b[0;31m                     \u001b[0mtimeout\u001b[0m\u001b[0;34m=\u001b[0m\u001b[0mtimeout\u001b[0m\u001b[0;34m\u001b[0m\u001b[0m\n\u001b[0m\u001b[1;32m    441\u001b[0m                 )\n\u001b[1;32m    442\u001b[0m \u001b[0;34m\u001b[0m\u001b[0m\n",
      "\u001b[0;32m~/.pyenv/versions/anaconda3-5.0.1/lib/python3.6/site-packages/urllib3/connectionpool.py\u001b[0m in \u001b[0;36murlopen\u001b[0;34m(self, method, url, body, headers, retries, redirect, assert_same_host, timeout, pool_timeout, release_conn, chunked, body_pos, **response_kw)\u001b[0m\n\u001b[1;32m    599\u001b[0m                                                   \u001b[0mtimeout\u001b[0m\u001b[0;34m=\u001b[0m\u001b[0mtimeout_obj\u001b[0m\u001b[0;34m,\u001b[0m\u001b[0;34m\u001b[0m\u001b[0m\n\u001b[1;32m    600\u001b[0m                                                   \u001b[0mbody\u001b[0m\u001b[0;34m=\u001b[0m\u001b[0mbody\u001b[0m\u001b[0;34m,\u001b[0m \u001b[0mheaders\u001b[0m\u001b[0;34m=\u001b[0m\u001b[0mheaders\u001b[0m\u001b[0;34m,\u001b[0m\u001b[0;34m\u001b[0m\u001b[0m\n\u001b[0;32m--> 601\u001b[0;31m                                                   chunked=chunked)\n\u001b[0m\u001b[1;32m    602\u001b[0m \u001b[0;34m\u001b[0m\u001b[0m\n\u001b[1;32m    603\u001b[0m             \u001b[0;31m# If we're going to release the connection in ``finally:``, then\u001b[0m\u001b[0;34m\u001b[0m\u001b[0;34m\u001b[0m\u001b[0m\n",
      "\u001b[0;32m~/.pyenv/versions/anaconda3-5.0.1/lib/python3.6/site-packages/urllib3/connectionpool.py\u001b[0m in \u001b[0;36m_make_request\u001b[0;34m(self, conn, method, url, timeout, chunked, **httplib_request_kw)\u001b[0m\n\u001b[1;32m    355\u001b[0m             \u001b[0mconn\u001b[0m\u001b[0;34m.\u001b[0m\u001b[0mrequest_chunked\u001b[0m\u001b[0;34m(\u001b[0m\u001b[0mmethod\u001b[0m\u001b[0;34m,\u001b[0m \u001b[0murl\u001b[0m\u001b[0;34m,\u001b[0m \u001b[0;34m**\u001b[0m\u001b[0mhttplib_request_kw\u001b[0m\u001b[0;34m)\u001b[0m\u001b[0;34m\u001b[0m\u001b[0m\n\u001b[1;32m    356\u001b[0m         \u001b[0;32melse\u001b[0m\u001b[0;34m:\u001b[0m\u001b[0;34m\u001b[0m\u001b[0m\n\u001b[0;32m--> 357\u001b[0;31m             \u001b[0mconn\u001b[0m\u001b[0;34m.\u001b[0m\u001b[0mrequest\u001b[0m\u001b[0;34m(\u001b[0m\u001b[0mmethod\u001b[0m\u001b[0;34m,\u001b[0m \u001b[0murl\u001b[0m\u001b[0;34m,\u001b[0m \u001b[0;34m**\u001b[0m\u001b[0mhttplib_request_kw\u001b[0m\u001b[0;34m)\u001b[0m\u001b[0;34m\u001b[0m\u001b[0m\n\u001b[0m\u001b[1;32m    358\u001b[0m \u001b[0;34m\u001b[0m\u001b[0m\n\u001b[1;32m    359\u001b[0m         \u001b[0;31m# Reset the timeout for the recv() on the socket\u001b[0m\u001b[0;34m\u001b[0m\u001b[0;34m\u001b[0m\u001b[0m\n",
      "\u001b[0;32m~/.pyenv/versions/anaconda3-5.0.1/lib/python3.6/http/client.py\u001b[0m in \u001b[0;36mrequest\u001b[0;34m(self, method, url, body, headers, encode_chunked)\u001b[0m\n\u001b[1;32m   1237\u001b[0m                 encode_chunked=False):\n\u001b[1;32m   1238\u001b[0m         \u001b[0;34m\"\"\"Send a complete request to the server.\"\"\"\u001b[0m\u001b[0;34m\u001b[0m\u001b[0m\n\u001b[0;32m-> 1239\u001b[0;31m         \u001b[0mself\u001b[0m\u001b[0;34m.\u001b[0m\u001b[0m_send_request\u001b[0m\u001b[0;34m(\u001b[0m\u001b[0mmethod\u001b[0m\u001b[0;34m,\u001b[0m \u001b[0murl\u001b[0m\u001b[0;34m,\u001b[0m \u001b[0mbody\u001b[0m\u001b[0;34m,\u001b[0m \u001b[0mheaders\u001b[0m\u001b[0;34m,\u001b[0m \u001b[0mencode_chunked\u001b[0m\u001b[0;34m)\u001b[0m\u001b[0;34m\u001b[0m\u001b[0m\n\u001b[0m\u001b[1;32m   1240\u001b[0m \u001b[0;34m\u001b[0m\u001b[0m\n\u001b[1;32m   1241\u001b[0m     \u001b[0;32mdef\u001b[0m \u001b[0m_send_request\u001b[0m\u001b[0;34m(\u001b[0m\u001b[0mself\u001b[0m\u001b[0;34m,\u001b[0m \u001b[0mmethod\u001b[0m\u001b[0;34m,\u001b[0m \u001b[0murl\u001b[0m\u001b[0;34m,\u001b[0m \u001b[0mbody\u001b[0m\u001b[0;34m,\u001b[0m \u001b[0mheaders\u001b[0m\u001b[0;34m,\u001b[0m \u001b[0mencode_chunked\u001b[0m\u001b[0;34m)\u001b[0m\u001b[0;34m:\u001b[0m\u001b[0;34m\u001b[0m\u001b[0m\n",
      "\u001b[0;32m~/.pyenv/versions/anaconda3-5.0.1/lib/python3.6/http/client.py\u001b[0m in \u001b[0;36m_send_request\u001b[0;34m(self, method, url, body, headers, encode_chunked)\u001b[0m\n\u001b[1;32m   1278\u001b[0m \u001b[0;34m\u001b[0m\u001b[0m\n\u001b[1;32m   1279\u001b[0m         \u001b[0;32mfor\u001b[0m \u001b[0mhdr\u001b[0m\u001b[0;34m,\u001b[0m \u001b[0mvalue\u001b[0m \u001b[0;32min\u001b[0m \u001b[0mheaders\u001b[0m\u001b[0;34m.\u001b[0m\u001b[0mitems\u001b[0m\u001b[0;34m(\u001b[0m\u001b[0;34m)\u001b[0m\u001b[0;34m:\u001b[0m\u001b[0;34m\u001b[0m\u001b[0m\n\u001b[0;32m-> 1280\u001b[0;31m             \u001b[0mself\u001b[0m\u001b[0;34m.\u001b[0m\u001b[0mputheader\u001b[0m\u001b[0;34m(\u001b[0m\u001b[0mhdr\u001b[0m\u001b[0;34m,\u001b[0m \u001b[0mvalue\u001b[0m\u001b[0;34m)\u001b[0m\u001b[0;34m\u001b[0m\u001b[0m\n\u001b[0m\u001b[1;32m   1281\u001b[0m         \u001b[0;32mif\u001b[0m \u001b[0misinstance\u001b[0m\u001b[0;34m(\u001b[0m\u001b[0mbody\u001b[0m\u001b[0;34m,\u001b[0m \u001b[0mstr\u001b[0m\u001b[0;34m)\u001b[0m\u001b[0;34m:\u001b[0m\u001b[0;34m\u001b[0m\u001b[0m\n\u001b[1;32m   1282\u001b[0m             \u001b[0;31m# RFC 2616 Section 3.7.1 says that text default has a\u001b[0m\u001b[0;34m\u001b[0m\u001b[0;34m\u001b[0m\u001b[0m\n",
      "\u001b[0;32m~/.pyenv/versions/anaconda3-5.0.1/lib/python3.6/http/client.py\u001b[0m in \u001b[0;36mputheader\u001b[0;34m(self, header, *values)\u001b[0m\n\u001b[1;32m   1210\u001b[0m         \u001b[0;32mfor\u001b[0m \u001b[0mi\u001b[0m\u001b[0;34m,\u001b[0m \u001b[0mone_value\u001b[0m \u001b[0;32min\u001b[0m \u001b[0menumerate\u001b[0m\u001b[0;34m(\u001b[0m\u001b[0mvalues\u001b[0m\u001b[0;34m)\u001b[0m\u001b[0;34m:\u001b[0m\u001b[0;34m\u001b[0m\u001b[0m\n\u001b[1;32m   1211\u001b[0m             \u001b[0;32mif\u001b[0m \u001b[0mhasattr\u001b[0m\u001b[0;34m(\u001b[0m\u001b[0mone_value\u001b[0m\u001b[0;34m,\u001b[0m \u001b[0;34m'encode'\u001b[0m\u001b[0;34m)\u001b[0m\u001b[0;34m:\u001b[0m\u001b[0;34m\u001b[0m\u001b[0m\n\u001b[0;32m-> 1212\u001b[0;31m                 \u001b[0mvalues\u001b[0m\u001b[0;34m[\u001b[0m\u001b[0mi\u001b[0m\u001b[0;34m]\u001b[0m \u001b[0;34m=\u001b[0m \u001b[0mone_value\u001b[0m\u001b[0;34m.\u001b[0m\u001b[0mencode\u001b[0m\u001b[0;34m(\u001b[0m\u001b[0;34m'latin-1'\u001b[0m\u001b[0;34m)\u001b[0m\u001b[0;34m\u001b[0m\u001b[0m\n\u001b[0m\u001b[1;32m   1213\u001b[0m             \u001b[0;32melif\u001b[0m \u001b[0misinstance\u001b[0m\u001b[0;34m(\u001b[0m\u001b[0mone_value\u001b[0m\u001b[0;34m,\u001b[0m \u001b[0mint\u001b[0m\u001b[0;34m)\u001b[0m\u001b[0;34m:\u001b[0m\u001b[0;34m\u001b[0m\u001b[0m\n\u001b[1;32m   1214\u001b[0m                 \u001b[0mvalues\u001b[0m\u001b[0;34m[\u001b[0m\u001b[0mi\u001b[0m\u001b[0;34m]\u001b[0m \u001b[0;34m=\u001b[0m \u001b[0mstr\u001b[0m\u001b[0;34m(\u001b[0m\u001b[0mone_value\u001b[0m\u001b[0;34m)\u001b[0m\u001b[0;34m.\u001b[0m\u001b[0mencode\u001b[0m\u001b[0;34m(\u001b[0m\u001b[0;34m'ascii'\u001b[0m\u001b[0;34m)\u001b[0m\u001b[0;34m\u001b[0m\u001b[0m\n",
      "\u001b[0;31mUnicodeEncodeError\u001b[0m: 'latin-1' codec can't encode character '\\u2026' in position 30: ordinal not in range(256)"
     ]
    }
   ],
   "source": [
    "r = requests.get(url, params=payload,headers=header)"
   ]
  },
  {
   "cell_type": "code",
   "execution_count": null,
   "metadata": {},
   "outputs": [],
   "source": []
  }
 ],
 "metadata": {
  "kernelspec": {
   "display_name": "Python 3",
   "language": "python",
   "name": "python3"
  },
  "language_info": {
   "codemirror_mode": {
    "name": "ipython",
    "version": 3
   },
   "file_extension": ".py",
   "mimetype": "text/x-python",
   "name": "python",
   "nbconvert_exporter": "python",
   "pygments_lexer": "ipython3",
   "version": "3.6.4"
  }
 },
 "nbformat": 4,
 "nbformat_minor": 2
}
