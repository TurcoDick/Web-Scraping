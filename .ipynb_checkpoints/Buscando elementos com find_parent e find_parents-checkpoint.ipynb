{
 "cells": [
  {
   "cell_type": "markdown",
   "metadata": {},
   "source": [
    "***<h1>Diferença entre:<br/>\n",
    "find<br/>\n",
    "find_all<br/><br/>\n",
    "find_parent<br/>\n",
    "find_parents<br/>\n",
    "\n",
    "find sem parent busca filhos, com parent(s) busca pais<br/> \n",
    "<br/>parent é o pai imediato e o parents são todos os pais, ou seja os parents querem sobem a arvore em direção da raiz\n",
    "</h1>***"
   ]
  },
  {
   "cell_type": "code",
   "execution_count": 1,
   "metadata": {},
   "outputs": [],
   "source": [
    "from bs4 import BeautifulSoup"
   ]
  },
  {
   "cell_type": "code",
   "execution_count": 3,
   "metadata": {},
   "outputs": [],
   "source": [
    "with open('arquivo04.html','r') as f:\n",
    "    soup = BeautifulSoup(f, \"lxml\")"
   ]
  },
  {
   "cell_type": "code",
   "execution_count": 4,
   "metadata": {},
   "outputs": [],
   "source": [
    "primaryconsumers = soup.find_all(class_='primaryconsumerlist')"
   ]
  },
  {
   "cell_type": "code",
   "execution_count": 11,
   "metadata": {},
   "outputs": [
    {
     "name": "stdout",
     "output_type": "stream",
     "text": [
      "<li class=\"primaryconsumerlist\">\n",
      "<div class=\"name\">rabbit</div>\n",
      "<div class=\"number\">2000</div>\n",
      "</li>\n"
     ]
    }
   ],
   "source": [
    "print(primaryconsumers[1])"
   ]
  },
  {
   "cell_type": "code",
   "execution_count": 12,
   "metadata": {},
   "outputs": [
    {
     "name": "stdout",
     "output_type": "stream",
     "text": [
      "[<ul id=\"primaryconsumers\">\n",
      "<li class=\"primaryconsumerlist\">\n",
      "<div class=\"name\">deer</div>\n",
      "<div class=\"number\">1000</div>\n",
      "</li>\n",
      "<li class=\"primaryconsumerlist\">\n",
      "<div class=\"name\">rabbit</div>\n",
      "<div class=\"number\">2000</div>\n",
      "</li>\n",
      "</ul>, <ul id=\"parent_producers\">\n",
      "<li class=\"parent_producerlist\">\n",
      "<ul id=\"producers\">\n",
      "<li class=\"producerlist\">\n",
      "<div class=\"name\">plants</div>\n",
      "<div class=\"number\">100000</div>\n",
      "</li>\n",
      "<li class=\"producerlist\">\n",
      "<div class=\"name\">algae</div>\n",
      "<div class=\"number\">100000</div>\n",
      "</li>\n",
      "</ul>\n",
      "<ul id=\"primaryconsumers\">\n",
      "<li class=\"primaryconsumerlist\">\n",
      "<div class=\"name\">deer</div>\n",
      "<div class=\"number\">1000</div>\n",
      "</li>\n",
      "<li class=\"primaryconsumerlist\">\n",
      "<div class=\"name\">rabbit</div>\n",
      "<div class=\"number\">2000</div>\n",
      "</li>\n",
      "</ul>\n",
      "<ul id=\"secondaryconsumers\">\n",
      "<li class=\"secondaryconsumerlist\">\n",
      "<div class=\"name\">fox</div>\n",
      "<div class=\"number\">100</div>\n",
      "</li>\n",
      "<li class=\"secondaryconsumerlist\">\n",
      "<div class=\"name\">bear</div>\n",
      "\t\t\t\t\t\t[ 28 ]\n",
      "\t\t\t\t\t\twww.it-ebooks.infoChapter 3\n",
      "\t\t\t\t\t\t<div class=\"number\">100</div>\n",
      "</li>\n",
      "</ul>\n",
      "<ul id=\"tertiaryconsumers\">\n",
      "<li class=\"tertiaryconsumerlist\">\n",
      "<div class=\"name\">lion</div>\n",
      "<div class=\"number\">80</div>\n",
      "</li>\n",
      "<li class=\"tertiaryconsumerlist\">\n",
      "<div class=\"name\">tiger</div>\n",
      "<div class=\"number\">50</div>\n",
      "</li>\n",
      "</ul>\n",
      "<ul id=\"quaternaryconsumers\">\n",
      "<li class=\"quaternaryconsumerlist\">\n",
      "<div class=\"name animal\">tutle</div>\n",
      "<div class=\"number\">1000</div>\n",
      "</li>\n",
      "<li class=\"quaternaryconsumerlist\">\n",
      "<div class=\"name animal\">giraffe</div>\n",
      "<div class=\"number\">100</div>\n",
      "</li>\n",
      "</ul>\n",
      "</li>\n",
      "</ul>]\n"
     ]
    }
   ],
   "source": [
    "print(primaryconsumer.find_parents('ul'))"
   ]
  },
  {
   "cell_type": "code",
   "execution_count": null,
   "metadata": {},
   "outputs": [],
   "source": []
  }
 ],
 "metadata": {
  "kernelspec": {
   "display_name": "Python 3",
   "language": "python",
   "name": "python3"
  },
  "language_info": {
   "codemirror_mode": {
    "name": "ipython",
    "version": 3
   },
   "file_extension": ".py",
   "mimetype": "text/x-python",
   "name": "python",
   "nbconvert_exporter": "python",
   "pygments_lexer": "ipython3",
   "version": "3.6.4"
  }
 },
 "nbformat": 4,
 "nbformat_minor": 2
}
