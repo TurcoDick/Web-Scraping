{
 "cells": [
  {
   "cell_type": "code",
   "execution_count": 1,
   "metadata": {},
   "outputs": [],
   "source": [
    "from bs4 import BeautifulSoup"
   ]
  },
  {
   "cell_type": "markdown",
   "metadata": {},
   "source": [
    "*** Tanto children quanto contents acessam os filhos diretos e não os netos, <br /> mas quando uso\n",
    "o soup.descendants consigo acessar todos os descendentes (esta no notebook seguinte) ***"
   ]
  },
  {
   "cell_type": "code",
   "execution_count": 2,
   "metadata": {},
   "outputs": [],
   "source": [
    "with open('arquivo02.html','r') as f:\n",
    "    soup = BeautifulSoup(f,'lxml')"
   ]
  },
  {
   "cell_type": "code",
   "execution_count": 3,
   "metadata": {},
   "outputs": [
    {
     "name": "stdout",
     "output_type": "stream",
     "text": [
      "['\\n', <caption>Tabela Técnica do Google Glass <span>junho/2016</span></caption>, '\\n', <tr><td class=\"ce\">Tela</td> <td class=\"cd\">Resolução equivalente a tela de 25\"</td></tr>, '\\n', <tr><td class=\"ce\" rowspan=\"2\">Camera</td> <td class=\"cd\"> 5MP para fotos</td></tr>, '\\n', <tr><td class=\"cd\">720p para vídeos</td></tr>, '\\n', <tr><td class=\"ce\" rowspan=\"2\">Conectividade</td> <td class=\"cd\">Wi-Fi</td></tr>, '\\n', <tr><td class=\"cd\">Bluetooth</td></tr>, '\\n', <tr><td class=\"ce\">Memória Interna</td> <td class=\"cd\">12GB</td></tr>, '\\n']\n"
     ]
    }
   ],
   "source": [
    "print(soup.table.contents) # traz todo o contéudo da tabela"
   ]
  },
  {
   "cell_type": "code",
   "execution_count": 6,
   "metadata": {},
   "outputs": [
    {
     "name": "stdout",
     "output_type": "stream",
     "text": [
      "<class 'list'>\n"
     ]
    }
   ],
   "source": [
    "print(type(soup.table.contents)) # a função contents retorna uma lista"
   ]
  },
  {
   "cell_type": "code",
   "execution_count": 7,
   "metadata": {},
   "outputs": [
    {
     "name": "stdout",
     "output_type": "stream",
     "text": [
      "<class 'list'>\n"
     ]
    }
   ],
   "source": [
    "print(type(soup.contents)) # independente de onde for chamada"
   ]
  },
  {
   "cell_type": "code",
   "execution_count": 8,
   "metadata": {},
   "outputs": [
    {
     "name": "stdout",
     "output_type": "stream",
     "text": [
      "3\n"
     ]
    }
   ],
   "source": [
    "print(len(soup.contents))"
   ]
  },
  {
   "cell_type": "code",
   "execution_count": 13,
   "metadata": {},
   "outputs": [
    {
     "name": "stdout",
     "output_type": "stream",
     "text": [
      "\n",
      "\n"
     ]
    }
   ],
   "source": [
    "print(soup.table.contents[0]) # o elemento do indice 0 é um \\n e por isso o retorno fica branco "
   ]
  },
  {
   "cell_type": "code",
   "execution_count": 14,
   "metadata": {},
   "outputs": [
    {
     "name": "stdout",
     "output_type": "stream",
     "text": [
      "<caption>Tabela Técnica do Google Glass <span>junho/2016</span></caption>\n"
     ]
    }
   ],
   "source": [
    "print(soup.table.contents[1])"
   ]
  },
  {
   "cell_type": "code",
   "execution_count": 15,
   "metadata": {},
   "outputs": [
    {
     "name": "stdout",
     "output_type": "stream",
     "text": [
      "<span>junho/2016</span>\n"
     ]
    }
   ],
   "source": [
    "print(soup.table.contents[1].span) # agora estou acessando a tabela no indice 1 e em seguida a tag span"
   ]
  },
  {
   "cell_type": "code",
   "execution_count": 17,
   "metadata": {},
   "outputs": [
    {
     "name": "stdout",
     "output_type": "stream",
     "text": [
      "junho/2016\n"
     ]
    }
   ],
   "source": [
    "print(soup.table.contents[1].span.string) # retorna somente a string"
   ]
  },
  {
   "cell_type": "code",
   "execution_count": 20,
   "metadata": {},
   "outputs": [
    {
     "name": "stdout",
     "output_type": "stream",
     "text": [
      "\n",
      "\n"
     ]
    }
   ],
   "source": [
    "print(soup.table.contents[2]) # o conteudo no indice 2 tbm é um \\n"
   ]
  },
  {
   "cell_type": "code",
   "execution_count": 21,
   "metadata": {},
   "outputs": [
    {
     "name": "stdout",
     "output_type": "stream",
     "text": [
      "<tr><td class=\"ce\">Tela</td> <td class=\"cd\">Resolução equivalente a tela de 25\"</td></tr>\n"
     ]
    }
   ],
   "source": [
    "print(soup.table.contents[3])"
   ]
  },
  {
   "cell_type": "code",
   "execution_count": 22,
   "metadata": {},
   "outputs": [
    {
     "name": "stdout",
     "output_type": "stream",
     "text": [
      "<td class=\"ce\">Tela</td>\n"
     ]
    }
   ],
   "source": [
    "print(soup.table.contents[3].td)"
   ]
  },
  {
   "cell_type": "code",
   "execution_count": 23,
   "metadata": {
    "scrolled": true
   },
   "outputs": [
    {
     "name": "stdout",
     "output_type": "stream",
     "text": [
      "\n",
      "\n",
      "<caption>Tabela Técnica do Google Glass <span>junho/2016</span></caption>\n",
      "\n",
      "\n",
      "<tr><td class=\"ce\">Tela</td> <td class=\"cd\">Resolução equivalente a tela de 25\"</td></tr>\n",
      "\n",
      "\n",
      "<tr><td class=\"ce\" rowspan=\"2\">Camera</td> <td class=\"cd\"> 5MP para fotos</td></tr>\n",
      "\n",
      "\n",
      "<tr><td class=\"cd\">720p para vídeos</td></tr>\n",
      "\n",
      "\n",
      "<tr><td class=\"ce\" rowspan=\"2\">Conectividade</td> <td class=\"cd\">Wi-Fi</td></tr>\n",
      "\n",
      "\n",
      "<tr><td class=\"cd\">Bluetooth</td></tr>\n",
      "\n",
      "\n",
      "<tr><td class=\"ce\">Memória Interna</td> <td class=\"cd\">12GB</td></tr>\n",
      "\n",
      "\n"
     ]
    }
   ],
   "source": [
    "for child in soup.table.contents:  # usando o for eu consigo percorrer toda a tabela\n",
    "    print(child)"
   ]
  },
  {
   "cell_type": "code",
   "execution_count": 24,
   "metadata": {},
   "outputs": [
    {
     "name": "stdout",
     "output_type": "stream",
     "text": [
      "<tr><td class=\"ce\">Tela</td> <td class=\"cd\">Resolução equivalente a tela de 25\"</td></tr>\n",
      "<tr><td class=\"ce\" rowspan=\"2\">Camera</td> <td class=\"cd\"> 5MP para fotos</td></tr>\n",
      "<tr><td class=\"cd\">720p para vídeos</td></tr>\n",
      "<tr><td class=\"ce\" rowspan=\"2\">Conectividade</td> <td class=\"cd\">Wi-Fi</td></tr>\n",
      "<tr><td class=\"cd\">Bluetooth</td></tr>\n",
      "<tr><td class=\"ce\">Memória Interna</td> <td class=\"cd\">12GB</td></tr>\n"
     ]
    }
   ],
   "source": [
    "for child in soup.table.contents: # assim consigo iterar sobre os elementos\n",
    "    if child.name =='tr':\n",
    "        print(child)"
   ]
  },
  {
   "cell_type": "code",
   "execution_count": 25,
   "metadata": {},
   "outputs": [
    {
     "name": "stdout",
     "output_type": "stream",
     "text": [
      "<class 'list_iterator'>\n"
     ]
    }
   ],
   "source": [
    "print(type(soup.children))"
   ]
  },
  {
   "cell_type": "code",
   "execution_count": 26,
   "metadata": {},
   "outputs": [
    {
     "name": "stdout",
     "output_type": "stream",
     "text": [
      "\n",
      "\n",
      "<p>Copyright © 2013 - by Thomas William <br/>\n",
      "<a href=\"https://www.facebook.com/TheLifelongTeacher/?fref=ts\" target=\"_blank\">Facebook</a> | \n",
      "\t\t<a href=\"https://www.udemy.com/user/marcoscastrodesouza/\" target=\"_blank\">Udemy</a></p>\n",
      "\n",
      "\n"
     ]
    }
   ],
   "source": [
    "for child in soup.footer.children:\n",
    "    print(child)"
   ]
  },
  {
   "cell_type": "code",
   "execution_count": 29,
   "metadata": {},
   "outputs": [
    {
     "name": "stdout",
     "output_type": "stream",
     "text": [
      "https://www.facebook.com/TheLifelongTeacher/?fref=ts\n",
      "https://www.udemy.com/user/marcoscastrodesouza/\n"
     ]
    }
   ],
   "source": [
    "for child in soup.footer.p.children:\n",
    "    if child.name == 'a':\n",
    "        print(child.get('href'))"
   ]
  }
 ],
 "metadata": {
  "kernelspec": {
   "display_name": "Python 3",
   "language": "python",
   "name": "python3"
  },
  "language_info": {
   "codemirror_mode": {
    "name": "ipython",
    "version": 3
   },
   "file_extension": ".py",
   "mimetype": "text/x-python",
   "name": "python",
   "nbconvert_exporter": "python",
   "pygments_lexer": "ipython3",
   "version": "3.6.4"
  }
 },
 "nbformat": 4,
 "nbformat_minor": 2
}
