{
 "cells": [
  {
   "cell_type": "code",
   "execution_count": 1,
   "metadata": {},
   "outputs": [],
   "source": [
    "from bs4 import BeautifulSoup"
   ]
  },
  {
   "cell_type": "code",
   "execution_count": 2,
   "metadata": {},
   "outputs": [],
   "source": [
    "with open('arquivo02.html','r') as f:\n",
    "    soup = BeautifulSoup(f, 'lxml')"
   ]
  },
  {
   "cell_type": "code",
   "execution_count": 3,
   "metadata": {},
   "outputs": [
    {
     "name": "stdout",
     "output_type": "stream",
     "text": [
      "None\n"
     ]
    }
   ],
   "source": [
    "print(soup.parent) # assim da None por que não existe nada acima de todo o html"
   ]
  },
  {
   "cell_type": "code",
   "execution_count": 4,
   "metadata": {},
   "outputs": [
    {
     "name": "stdout",
     "output_type": "stream",
     "text": [
      "<title>Tudo Sobre Google Glass</title>\n"
     ]
    }
   ],
   "source": [
    "tag_title = soup.title  # conteúdo da tag title\n",
    "print(tag_title)"
   ]
  },
  {
   "cell_type": "code",
   "execution_count": 5,
   "metadata": {},
   "outputs": [
    {
     "name": "stdout",
     "output_type": "stream",
     "text": [
      "<head>\n",
      "<title>Tudo Sobre Google Glass</title>\n",
      "<meta content=\"text/html; charset=utf-8\" http-equiv=\"Content-Type\"/>\n",
      "</head>\n"
     ]
    }
   ],
   "source": [
    "print(tag_title.parent) # conteúdo da tag pai da tag title"
   ]
  },
  {
   "cell_type": "code",
   "execution_count": 6,
   "metadata": {},
   "outputs": [
    {
     "name": "stdout",
     "output_type": "stream",
     "text": [
      "<tr><td class=\"ce\">Tela</td> <td class=\"cd\">Resolução equivalente a tela de 25\"</td></tr>\n"
     ]
    }
   ],
   "source": [
    "print(soup.td.parent) # conteúdo da tag pai da tag td, que é um tr"
   ]
  },
  {
   "cell_type": "code",
   "execution_count": 8,
   "metadata": {},
   "outputs": [
    {
     "name": "stdout",
     "output_type": "stream",
     "text": [
      "<table id=\"tabelaspec\">\n",
      "<caption>Tabela Técnica do Google Glass <span>junho/2016</span></caption>\n",
      "<tr><td class=\"ce\">Tela</td> <td class=\"cd\">Resolução equivalente a tela de 25\"</td></tr>\n",
      "<tr><td class=\"ce\" rowspan=\"2\">Camera</td> <td class=\"cd\"> 5MP para fotos</td></tr>\n",
      "<tr><td class=\"cd\">720p para vídeos</td></tr>\n",
      "<tr><td class=\"ce\" rowspan=\"2\">Conectividade</td> <td class=\"cd\">Wi-Fi</td></tr>\n",
      "<tr><td class=\"cd\">Bluetooth</td></tr>\n",
      "<tr><td class=\"ce\">Memória Interna</td> <td class=\"cd\">12GB</td></tr>\n",
      "</table>\n"
     ]
    }
   ],
   "source": [
    "print(soup.td.parent.parent) # para subir a árvore uso o parent cada um que use sobe um ancestral"
   ]
  },
  {
   "cell_type": "code",
   "execution_count": 9,
   "metadata": {},
   "outputs": [
    {
     "name": "stdout",
     "output_type": "stream",
     "text": [
      "article\n",
      "section\n",
      "div\n",
      "body\n",
      "html\n",
      "[document]\n"
     ]
    }
   ],
   "source": [
    "for pai in soup.p.parents:\n",
    "    print(pai.name)"
   ]
  },
  {
   "cell_type": "code",
   "execution_count": null,
   "metadata": {},
   "outputs": [],
   "source": []
  },
  {
   "cell_type": "code",
   "execution_count": null,
   "metadata": {},
   "outputs": [],
   "source": []
  }
 ],
 "metadata": {
  "kernelspec": {
   "display_name": "Python 3",
   "language": "python",
   "name": "python3"
  },
  "language_info": {
   "codemirror_mode": {
    "name": "ipython",
    "version": 3
   },
   "file_extension": ".py",
   "mimetype": "text/x-python",
   "name": "python",
   "nbconvert_exporter": "python",
   "pygments_lexer": "ipython3",
   "version": "3.6.4"
  }
 },
 "nbformat": 4,
 "nbformat_minor": 2
}
