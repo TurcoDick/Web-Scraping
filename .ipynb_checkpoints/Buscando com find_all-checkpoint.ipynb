{
 "cells": [
  {
   "cell_type": "code",
   "execution_count": 1,
   "metadata": {},
   "outputs": [],
   "source": [
    "from bs4 import BeautifulSoup"
   ]
  },
  {
   "cell_type": "code",
   "execution_count": 15,
   "metadata": {},
   "outputs": [],
   "source": [
    "with open('arquivo03.html','r') as f:\n",
    "    soup = BeautifulSoup(f,'lxml')"
   ]
  },
  {
   "cell_type": "code",
   "execution_count": 19,
   "metadata": {},
   "outputs": [
    {
     "name": "stdout",
     "output_type": "stream",
     "text": [
      "[<ul id=\"producers\">\n",
      "<li class=\"producerlist\">\n",
      "<div class=\"name\">plants</div>\n",
      "<div class=\"number\">100000</div>\n",
      "</li>\n",
      "<li class=\"producerlist\">\n",
      "<div class=\"name\">algae</div>\n",
      "<div class=\"number\">100000</div>\n",
      "</li>\n",
      "</ul>, <ul id=\"primaryconsumers\">\n",
      "<li class=\"primaryconsumerlist\">\n",
      "<div class=\"name\">deer</div>\n",
      "<div class=\"number\">1000</div>\n",
      "</li>\n",
      "<li class=\"primaryconsumerlist\">\n",
      "<div class=\"name\">rabbit</div>\n",
      "<div class=\"number\">2000</div>\n",
      "</li>\n",
      "</ul>, <ul id=\"secondaryconsumers\">\n",
      "<li class=\"secondaryconsumerlist\">\n",
      "<div class=\"name\">fox</div>\n",
      "<div class=\"number\">100</div>\n",
      "</li>\n",
      "<li class=\"secondaryconsumerlist\">\n",
      "<div class=\"name\">bear</div>\n",
      "\t\t\t\t[ 28 ]\n",
      "\t\t\t\twww.it-ebooks.infoChapter 3\n",
      "\t\t\t\t<div class=\"number\">100</div>\n",
      "</li>\n",
      "</ul>, <ul id=\"tertiaryconsumers\">\n",
      "<li class=\"tertiaryconsumerlist\">\n",
      "<div class=\"name\">lion</div>\n",
      "<div class=\"number\">80</div>\n",
      "</li>\n",
      "<li class=\"tertiaryconsumerlist\">\n",
      "<div class=\"name\">tiger</div>\n",
      "<div class=\"number\">50</div>\n",
      "</li>\n",
      "</ul>, <ul id=\"quaternaryconsumers\">\n",
      "<li class=\"quaternaryconsumerlist\">\n",
      "<div class=\"name animal\">tutle</div>\n",
      "<div class=\"number\">1000</div>\n",
      "</li>\n",
      "<li class=\"quaternaryconsumerlist\">\n",
      "<div class=\"name animal\">giraffe</div>\n",
      "<div class=\"number\">100</div>\n",
      "</li>\n",
      "</ul>]\n"
     ]
    }
   ],
   "source": [
    "print(soup.find_all('ul')) # trás todas as ocorrências de ul"
   ]
  },
  {
   "cell_type": "code",
   "execution_count": 18,
   "metadata": {},
   "outputs": [
    {
     "name": "stdout",
     "output_type": "stream",
     "text": [
      "[<header><h1>Cabeçalho</h1></header>, <footer><h1>Rodapé</h1></footer>]\n"
     ]
    }
   ],
   "source": [
    "print(soup.find_all(['footer','header']))"
   ]
  },
  {
   "cell_type": "code",
   "execution_count": 20,
   "metadata": {},
   "outputs": [
    {
     "name": "stdout",
     "output_type": "stream",
     "text": [
      "[<ul id=\"producers\">\n",
      "<li class=\"producerlist\">\n",
      "<div class=\"name\">plants</div>\n",
      "<div class=\"number\">100000</div>\n",
      "</li>\n",
      "<li class=\"producerlist\">\n",
      "<div class=\"name\">algae</div>\n",
      "<div class=\"number\">100000</div>\n",
      "</li>\n",
      "</ul>, <ul id=\"primaryconsumers\">\n",
      "<li class=\"primaryconsumerlist\">\n",
      "<div class=\"name\">deer</div>\n",
      "<div class=\"number\">1000</div>\n",
      "</li>\n",
      "<li class=\"primaryconsumerlist\">\n",
      "<div class=\"name\">rabbit</div>\n",
      "<div class=\"number\">2000</div>\n",
      "</li>\n",
      "</ul>]\n"
     ]
    }
   ],
   "source": [
    "print(soup.find_all('ul',limit=2))"
   ]
  },
  {
   "cell_type": "code",
   "execution_count": 22,
   "metadata": {},
   "outputs": [
    {
     "name": "stdout",
     "output_type": "stream",
     "text": [
      "['rabbit']\n"
     ]
    }
   ],
   "source": [
    "print(soup.find_all(string='rabbit')) # me retorne todos os 'rabbit'"
   ]
  },
  {
   "cell_type": "code",
   "execution_count": 23,
   "metadata": {},
   "outputs": [
    {
     "name": "stdout",
     "output_type": "stream",
     "text": [
      "['\\n', '\\n', 'Cabeçalho', '\\n', '\\n', '\\n', '\\n', 'plants', '\\n', '100000', '\\n', '\\n', '\\n', 'algae', '\\n', '100000', '\\n', '\\n', '\\n', '\\n', '\\n', 'deer', '\\n', '1000', '\\n', '\\n', '\\n', 'rabbit', '\\n', '2000', '\\n', '\\n', '\\n', '\\n', '\\n', 'fox', '\\n', '100', '\\n', '\\n', '\\n', 'bear', '\\n\\t\\t\\t\\t[ 28 ]\\n\\t\\t\\t\\twww.it-ebooks.infoChapter 3\\n\\t\\t\\t\\t', '100', '\\n', '\\n', '\\n', '\\n', '\\n', 'lion', '\\n', '80', '\\n', '\\n', '\\n', 'tiger', '\\n', '50', '\\n', '\\n', '\\n', '\\n', '\\n', 'tutle', '\\n', '1000', '\\n', '\\n', '\\n', 'giraffe', '\\n', '100', '\\n', '\\n', '\\n', '\\n', '\\n', 'Rodapé', '\\n']\n"
     ]
    }
   ],
   "source": [
    "print(soup.find_all(string=True))"
   ]
  },
  {
   "cell_type": "code",
   "execution_count": 25,
   "metadata": {},
   "outputs": [
    {
     "name": "stdout",
     "output_type": "stream",
     "text": [
      "['rabbit', 'bear']\n"
     ]
    }
   ],
   "source": [
    "print(soup.find_all(string=['rabbit','bear'])) # busca uma lista de strings"
   ]
  },
  {
   "cell_type": "code",
   "execution_count": 26,
   "metadata": {},
   "outputs": [
    {
     "data": {
      "text/plain": [
       "[<li class=\"producerlist\">\n",
       " <div class=\"name\">plants</div>\n",
       " <div class=\"number\">100000</div>\n",
       " </li>, <li class=\"producerlist\">\n",
       " <div class=\"name\">algae</div>\n",
       " <div class=\"number\">100000</div>\n",
       " </li>, <li class=\"primaryconsumerlist\">\n",
       " <div class=\"name\">deer</div>\n",
       " <div class=\"number\">1000</div>\n",
       " </li>, <li class=\"primaryconsumerlist\">\n",
       " <div class=\"name\">rabbit</div>\n",
       " <div class=\"number\">2000</div>\n",
       " </li>]"
      ]
     },
     "execution_count": 26,
     "metadata": {},
     "output_type": "execute_result"
    }
   ],
   "source": [
    "soup.find_all(class_=['producerlist','primaryconsumerlist']) # busque mais de um nome de class"
   ]
  },
  {
   "cell_type": "code",
   "execution_count": 28,
   "metadata": {},
   "outputs": [
    {
     "name": "stdout",
     "output_type": "stream",
     "text": [
      "[<div class=\"name\">plants</div>, <div class=\"name\">algae</div>, <div class=\"name\">deer</div>, <div class=\"name\">rabbit</div>, <div class=\"name\">fox</div>, <div class=\"name\">bear</div>, <div class=\"name\">lion</div>, <div class=\"name\">tiger</div>, <div class=\"name animal\">tutle</div>, <div class=\"name animal\">giraffe</div>]\n"
     ]
    }
   ],
   "source": [
    "# posso passa diferentes tipos de argumentos aqui estou passando o nome de uma tag e o nome de uma class\n",
    "print(soup.find_all('div',class_='name')) "
   ]
  },
  {
   "cell_type": "code",
   "execution_count": null,
   "metadata": {},
   "outputs": [],
   "source": []
  }
 ],
 "metadata": {
  "kernelspec": {
   "display_name": "Python 3",
   "language": "python",
   "name": "python3"
  },
  "language_info": {
   "codemirror_mode": {
    "name": "ipython",
    "version": 3
   },
   "file_extension": ".py",
   "mimetype": "text/x-python",
   "name": "python",
   "nbconvert_exporter": "python",
   "pygments_lexer": "ipython3",
   "version": "3.6.4"
  }
 },
 "nbformat": 4,
 "nbformat_minor": 2
}
